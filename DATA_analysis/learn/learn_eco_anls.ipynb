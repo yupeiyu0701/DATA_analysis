{
 "cells": [
  {
   "metadata": {},
   "cell_type": "markdown",
   "source": "1金融时间序列分析",
   "id": "ddd5e677b0fae89d"
  },
  {
   "cell_type": "code",
   "id": "initial_id",
   "metadata": {
    "collapsed": true,
    "ExecuteTime": {
     "end_time": "2025-02-09T10:08:47.582724Z",
     "start_time": "2025-02-09T10:08:47.573779Z"
    }
   },
   "source": [
    "#头文件 python软件库引用\n",
    "import numpy as np\n",
    "import warnings\n",
    "\n",
    "from jqdatasdk import get_all_securities\n",
    "\n",
    "warnings.filterwarnings('ignore')\n",
    "import pandas as pd\n",
    "import matplotlib.pyplot as plt"
   ],
   "outputs": [],
   "execution_count": 3
  },
  {
   "metadata": {},
   "cell_type": "markdown",
   "source": [
    "导入数据\n",
    "。1:以时间为索引2:将时间转换成标准格式·\n",
    "3:绘制展示各个指标的走势情况"
   ],
   "id": "2a13af7db5e0f9ce"
  },
  {
   "metadata": {},
   "cell_type": "code",
   "outputs": [],
   "execution_count": null,
   "source": "pd.read_csv('')",
   "id": "22dd4906f5d42c5e"
  }
 ],
 "metadata": {
  "kernelspec": {
   "display_name": "Python 3",
   "language": "python",
   "name": "python3"
  },
  "language_info": {
   "codemirror_mode": {
    "name": "ipython",
    "version": 2
   },
   "file_extension": ".py",
   "mimetype": "text/x-python",
   "name": "python",
   "nbconvert_exporter": "python",
   "pygments_lexer": "ipython2",
   "version": "2.7.6"
  }
 },
 "nbformat": 4,
 "nbformat_minor": 5
}
