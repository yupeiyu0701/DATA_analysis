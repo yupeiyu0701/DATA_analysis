{
 "cells": [
  {
   "cell_type": "code",
   "id": "initial_id",
   "metadata": {
    "collapsed": true,
    "ExecuteTime": {
     "end_time": "2025-02-16T09:54:35.901975Z",
     "start_time": "2025-02-16T09:54:35.891886Z"
    }
   },
   "source": [
    "import numpy as np\n",
    "from numpy import ndarray\n",
    "import matplotlib.pyplot as plt\n",
    "\n",
    "score=np.array([[1,1,1,4],[1,1,1,1], [1,1,1,1],[1,1,1,1]])\n",
    "\n",
    "score"
   ],
   "outputs": [
    {
     "data": {
      "text/plain": [
       "array([[1, 1, 1, 4],\n",
       "       [1, 1, 1, 1],\n",
       "       [1, 1, 1, 1],\n",
       "       [1, 1, 1, 1]])"
      ]
     },
     "execution_count": 8,
     "metadata": {},
     "output_type": "execute_result"
    }
   ],
   "execution_count": 8
  },
  {
   "metadata": {
    "ExecuteTime": {
     "end_time": "2025-02-16T09:54:35.996107Z",
     "start_time": "2025-02-16T09:54:35.987492Z"
    }
   },
   "cell_type": "code",
   "source": [
    "import numpy as np\n",
    "\n",
    "a = np.array([1,2,3,4])\n",
    "\n",
    "a"
   ],
   "id": "d25c4f6fd7e53ec4",
   "outputs": [
    {
     "data": {
      "text/plain": [
       "array([1, 2, 3, 4])"
      ]
     },
     "execution_count": 9,
     "metadata": {},
     "output_type": "execute_result"
    }
   ],
   "execution_count": 9
  },
  {
   "metadata": {},
   "cell_type": "markdown",
   "source": "1.2ndarray和原生python效率对比",
   "id": "b46c724ccf220607"
  },
  {
   "metadata": {},
   "cell_type": "markdown",
   "source": [
    "import random\n",
    "import time\n",
    "import numpy as np\n",
    "#a=[]\n",
    "#for i in range(100000000):\n",
    "    a.append(random.random())\n",
    "#通过%time魔法方法，查看当前行的代码运行一次所花费的时间\n",
    "#%time.sum1=sum(a)#貌似稚只能在jn上用\n",
    "\n",
    "#b=np.array(a)\n",
    "#%time.sum2=sum(b)"
   ],
   "id": "82e22bb600a4836c"
  },
  {
   "metadata": {},
   "cell_type": "markdown",
   "source": "2ndarray的使用\n",
   "id": "9b967df072d9997c"
  },
  {
   "metadata": {},
   "cell_type": "markdown",
   "source": "2.1数组的类型",
   "id": "93ca072715cf19e7"
  },
  {
   "metadata": {
    "ExecuteTime": {
     "end_time": "2025-02-16T09:54:36.145431Z",
     "start_time": "2025-02-16T09:54:36.139642Z"
    }
   },
   "cell_type": "code",
   "source": "score.shape#数组维度的元组",
   "id": "ed2ad41fe35c3d9c",
   "outputs": [
    {
     "data": {
      "text/plain": [
       "(4, 4)"
      ]
     },
     "execution_count": 10,
     "metadata": {},
     "output_type": "execute_result"
    }
   ],
   "execution_count": 10
  },
  {
   "metadata": {
    "ExecuteTime": {
     "end_time": "2025-02-16T09:54:36.356571Z",
     "start_time": "2025-02-16T09:54:36.344303Z"
    }
   },
   "cell_type": "code",
   "source": "score.ndim#数组维数",
   "id": "1f022e13b0397afa",
   "outputs": [
    {
     "data": {
      "text/plain": [
       "2"
      ]
     },
     "execution_count": 11,
     "metadata": {},
     "output_type": "execute_result"
    }
   ],
   "execution_count": 11
  },
  {
   "metadata": {
    "ExecuteTime": {
     "end_time": "2025-02-16T09:54:36.498305Z",
     "start_time": "2025-02-16T09:54:36.488745Z"
    }
   },
   "cell_type": "code",
   "source": "score.size#数组中的元素数量",
   "id": "d2ecd4bd6e1b3727",
   "outputs": [
    {
     "data": {
      "text/plain": [
       "16"
      ]
     },
     "execution_count": 12,
     "metadata": {},
     "output_type": "execute_result"
    }
   ],
   "execution_count": 12
  },
  {
   "metadata": {
    "ExecuteTime": {
     "end_time": "2025-02-16T09:54:36.573125Z",
     "start_time": "2025-02-16T09:54:36.562876Z"
    }
   },
   "cell_type": "code",
   "source": "score.itemsize#一个数组元素的长度（字节）",
   "id": "7a657d0239d24cc8",
   "outputs": [
    {
     "data": {
      "text/plain": [
       "8"
      ]
     },
     "execution_count": 13,
     "metadata": {},
     "output_type": "execute_result"
    }
   ],
   "execution_count": 13
  },
  {
   "metadata": {
    "ExecuteTime": {
     "end_time": "2025-02-16T09:54:36.693201Z",
     "start_time": "2025-02-16T09:54:36.681013Z"
    }
   },
   "cell_type": "code",
   "source": "score.dtype#数组元素的类型",
   "id": "b655dd62bc56147d",
   "outputs": [
    {
     "data": {
      "text/plain": [
       "dtype('int64')"
      ]
     },
     "execution_count": 14,
     "metadata": {},
     "output_type": "execute_result"
    }
   ],
   "execution_count": 14
  },
  {
   "metadata": {
    "ExecuteTime": {
     "end_time": "2025-02-16T09:54:36.927926Z",
     "start_time": "2025-02-16T09:54:36.909288Z"
    }
   },
   "cell_type": "code",
   "source": [
    "b=np.array([[1,2,3],[4,5,6]],dtype=np.float32)\n",
    "b"
   ],
   "id": "55aefb5438589013",
   "outputs": [
    {
     "data": {
      "text/plain": [
       "array([[1., 2., 3.],\n",
       "       [4., 5., 6.]], dtype=float32)"
      ]
     },
     "execution_count": 15,
     "metadata": {},
     "output_type": "execute_result"
    }
   ],
   "execution_count": 15
  },
  {
   "metadata": {
    "ExecuteTime": {
     "end_time": "2025-02-16T09:54:37.130969Z",
     "start_time": "2025-02-16T09:54:37.120217Z"
    }
   },
   "cell_type": "code",
   "source": [
    "arr=np.array([\"python\",\"hello\",\"I\"],dtype =np.bytes_)\n",
    "arr"
   ],
   "id": "bbf887477498abdd",
   "outputs": [
    {
     "data": {
      "text/plain": [
       "array([b'python', b'hello', b'I'], dtype='|S6')"
      ]
     },
     "execution_count": 16,
     "metadata": {},
     "output_type": "execute_result"
    }
   ],
   "execution_count": 16
  },
  {
   "metadata": {
    "ExecuteTime": {
     "end_time": "2025-02-16T09:54:37.357606Z",
     "start_time": "2025-02-16T09:54:37.343282Z"
    }
   },
   "cell_type": "code",
   "source": [
    "ones=np.ones([4,8])#生成1数组\n",
    "zeros= np.zeros([4,8])#生成0数组\n",
    "ones"
   ],
   "id": "fff54445d0e1ec9",
   "outputs": [
    {
     "data": {
      "text/plain": [
       "array([[1., 1., 1., 1., 1., 1., 1., 1.],\n",
       "       [1., 1., 1., 1., 1., 1., 1., 1.],\n",
       "       [1., 1., 1., 1., 1., 1., 1., 1.],\n",
       "       [1., 1., 1., 1., 1., 1., 1., 1.]])"
      ]
     },
     "execution_count": 17,
     "metadata": {},
     "output_type": "execute_result"
    }
   ],
   "execution_count": 17
  },
  {
   "metadata": {},
   "cell_type": "markdown",
   "source": "2.1从现有数组中生成",
   "id": "c612308768660bac"
  },
  {
   "metadata": {
    "ExecuteTime": {
     "end_time": "2025-02-16T09:54:37.515655Z",
     "start_time": "2025-02-16T09:54:37.502508Z"
    }
   },
   "cell_type": "code",
   "source": [
    "a=np.array([[1,2,3],[4,5,6]])\n",
    "a"
   ],
   "id": "20d4a57cc5c3fb80",
   "outputs": [
    {
     "data": {
      "text/plain": [
       "array([[1, 2, 3],\n",
       "       [4, 5, 6]])"
      ]
     },
     "execution_count": 18,
     "metadata": {},
     "output_type": "execute_result"
    }
   ],
   "execution_count": 18
  },
  {
   "metadata": {
    "ExecuteTime": {
     "end_time": "2025-02-16T09:54:37.654739Z",
     "start_time": "2025-02-16T09:54:37.643353Z"
    }
   },
   "cell_type": "code",
   "source": [
    "a1=np.array(a)#深拷贝\n",
    "a1"
   ],
   "id": "e02af178f0d6587f",
   "outputs": [
    {
     "data": {
      "text/plain": [
       "array([[1, 2, 3],\n",
       "       [4, 5, 6]])"
      ]
     },
     "execution_count": 19,
     "metadata": {},
     "output_type": "execute_result"
    }
   ],
   "execution_count": 19
  },
  {
   "metadata": {
    "ExecuteTime": {
     "end_time": "2025-02-16T09:54:37.979783Z",
     "start_time": "2025-02-16T09:54:37.971160Z"
    }
   },
   "cell_type": "code",
   "source": [
    "a2=np.asarray(a)#浅拷贝\n",
    "a2"
   ],
   "id": "7132c663f6656a55",
   "outputs": [
    {
     "data": {
      "text/plain": [
       "array([[1, 2, 3],\n",
       "       [4, 5, 6]])"
      ]
     },
     "execution_count": 20,
     "metadata": {},
     "output_type": "execute_result"
    }
   ],
   "execution_count": 20
  },
  {
   "metadata": {
    "ExecuteTime": {
     "end_time": "2025-02-16T09:54:38.345293Z",
     "start_time": "2025-02-16T09:54:38.336446Z"
    }
   },
   "cell_type": "code",
   "source": [
    "#这里看不出有差别\n",
    "a[0,0]=1000\n",
    "a"
   ],
   "id": "b66095b77bbff016",
   "outputs": [
    {
     "data": {
      "text/plain": [
       "array([[1000,    2,    3],\n",
       "       [   4,    5,    6]])"
      ]
     },
     "execution_count": 21,
     "metadata": {},
     "output_type": "execute_result"
    }
   ],
   "execution_count": 21
  },
  {
   "metadata": {
    "ExecuteTime": {
     "end_time": "2025-02-16T09:54:38.866816Z",
     "start_time": "2025-02-16T09:54:38.855283Z"
    }
   },
   "cell_type": "code",
   "source": "a1",
   "id": "17acbcaaa2abc068",
   "outputs": [
    {
     "data": {
      "text/plain": [
       "array([[1, 2, 3],\n",
       "       [4, 5, 6]])"
      ]
     },
     "execution_count": 22,
     "metadata": {},
     "output_type": "execute_result"
    }
   ],
   "execution_count": 22
  },
  {
   "metadata": {
    "ExecuteTime": {
     "end_time": "2025-02-16T09:54:39.155131Z",
     "start_time": "2025-02-16T09:54:39.141723Z"
    }
   },
   "cell_type": "code",
   "source": "a2",
   "id": "59e89fbfed993cd8",
   "outputs": [
    {
     "data": {
      "text/plain": [
       "array([[1000,    2,    3],\n",
       "       [   4,    5,    6]])"
      ]
     },
     "execution_count": 23,
     "metadata": {},
     "output_type": "execute_result"
    }
   ],
   "execution_count": 23
  },
  {
   "metadata": {},
   "cell_type": "markdown",
   "source": "1.3生成固定范围的数组",
   "id": "64de17f997c88b44"
  },
  {
   "metadata": {
    "ExecuteTime": {
     "end_time": "2025-02-16T09:54:39.747978Z",
     "start_time": "2025-02-16T09:54:39.734553Z"
    }
   },
   "cell_type": "code",
   "source": [
    "#等差数列--指定数量\n",
    "np.linspace(start=0,stop=10,num=10,endpoint=True,dtype=int)\n",
    "#num：要生成的等间隔样例数量，默认为50#\n",
    "#endpoint:序列中是否包含stop值,默认为true#"
   ],
   "id": "26c854d65a907d51",
   "outputs": [
    {
     "data": {
      "text/plain": [
       "array([ 0,  1,  2,  3,  4,  5,  6,  7,  8, 10])"
      ]
     },
     "execution_count": 24,
     "metadata": {},
     "output_type": "execute_result"
    }
   ],
   "execution_count": 24
  },
  {
   "metadata": {
    "ExecuteTime": {
     "end_time": "2025-02-16T09:54:40.032Z",
     "start_time": "2025-02-16T09:54:40.020104Z"
    }
   },
   "cell_type": "code",
   "source": [
    "##等差数列--指定步长\n",
    "#np.arange(start=,stop=,step=,dtype=)\n",
    "##step:步长，默认值为1\n",
    "np.arange(10,50,2)"
   ],
   "id": "b9ca088ae1199f3b",
   "outputs": [
    {
     "data": {
      "text/plain": [
       "array([10, 12, 14, 16, 18, 20, 22, 24, 26, 28, 30, 32, 34, 36, 38, 40, 42,\n",
       "       44, 46, 48])"
      ]
     },
     "execution_count": 25,
     "metadata": {},
     "output_type": "execute_result"
    }
   ],
   "execution_count": 25
  },
  {
   "metadata": {
    "ExecuteTime": {
     "end_time": "2025-02-16T09:54:40.445428Z",
     "start_time": "2025-02-16T09:54:40.434953Z"
    }
   },
   "cell_type": "code",
   "source": [
    "#等比数列\n",
    "np.logspace(start=0,stop=9,num=10,endpoint=True,dtype=int)\n",
    "#num默认值为50"
   ],
   "id": "4b6c21b5e28b0932",
   "outputs": [
    {
     "data": {
      "text/plain": [
       "array([         1,         10,        100,       1000,      10000,\n",
       "           100000,    1000000,   10000000,  100000000, 1000000000])"
      ]
     },
     "execution_count": 26,
     "metadata": {},
     "output_type": "execute_result"
    }
   ],
   "execution_count": 26
  },
  {
   "metadata": {},
   "cell_type": "markdown",
   "source": "1.4生成随机数组",
   "id": "8587650fc299dc6f"
  },
  {
   "metadata": {},
   "cell_type": "markdown",
   "source": "np.random模块",
   "id": "61ae671c56ed1825"
  },
  {
   "metadata": {},
   "cell_type": "markdown",
   "source": "正态分布创建方式",
   "id": "49eab855ad04958c"
  },
  {
   "metadata": {},
   "cell_type": "markdown",
   "source": [
    "np.random.randn(d0,d1,d2,d3,...)<br>\n",
    "功能：从标准正态分布中返回一个或多个样本值<br>\n",
    "np.random.normal(loc=0.0,scale=1.0,size=None)<br>\n",
    "loc:float<br>\n",
    "此概率分布的均值（对应着整个分布的centre）<br>\n",
    "scale：float<br>\n",
    "此概率分布的标准差（对应余分布的宽度，scale越大越矮胖，scale越小，越瘦高）<br>\n",
    "size：int or tuple of ints<br>\n",
    "输出的shape，默认为None，只输出一个值<br>\n",
    "\n",
    "np.random.standard_normal(size=None)<br>\n",
    "返回指定形状的标准正态分布的数组"
   ],
   "id": "7dca2d4705c03340"
  },
  {
   "metadata": {
    "ExecuteTime": {
     "end_time": "2025-02-16T09:55:28.886905Z",
     "start_time": "2025-02-16T09:54:40.611165Z"
    }
   },
   "cell_type": "code",
   "source": [
    "#举例1：生成均值为1.75，标准差为1的正态分布数据，1000000000个\n",
    "x1 = np.random.normal(1.75,1,1000000000)\n",
    "x1"
   ],
   "id": "678d7978cfde1cc0",
   "outputs": [
    {
     "data": {
      "text/plain": [
       "array([ 1.47132698,  1.57557489,  1.64409259, ...,  1.8682211 ,\n",
       "       -0.04711495,  3.04363246])"
      ]
     },
     "execution_count": 27,
     "metadata": {},
     "output_type": "execute_result"
    }
   ],
   "execution_count": 27
  },
  {
   "metadata": {
    "ExecuteTime": {
     "end_time": "2025-02-16T09:57:30.735402Z",
     "start_time": "2025-02-16T09:55:29.831551Z"
    }
   },
   "cell_type": "code",
   "source": [
    "plt.figure(figsize=[20.0,8.0],dpi=100)\n",
    "plt.hist(x1,1000)\n",
    "plt.show()"
   ],
   "id": "a07c8a1431ebf304",
   "outputs": [
    {
     "data": {
      "text/plain": [
       "<Figure size 2000x800 with 1 Axes>"
      ],
      "image/png": "[encoded data removed]"
     },
     "metadata": {},
     "output_type": "display_data"
    }
   ],
   "execution_count": 28
  },
  {
   "metadata": {
    "ExecuteTime": {
     "end_time": "2025-02-16T09:58:32.436780Z",
     "start_time": "2025-02-16T09:58:32.422401Z"
    }
   },
   "cell_type": "code",
   "source": [
    "stock_change=np.random.normal(0,1,[4,5])\n",
    "stock_change"
   ],
   "id": "f58d2da4c4ec6415",
   "outputs": [
    {
     "data": {
      "text/plain": [
       "array([[ 1.11346732, -1.16913283, -0.95495238,  0.46820416,  1.14952007],\n",
       "       [ 0.44382573,  0.80385229,  0.94324647, -0.06999563, -0.05262927],\n",
       "       [ 1.11777546, -0.14634889,  0.40069777, -1.16699279, -0.12641921],\n",
       "       [ 0.97654333,  1.06724337, -0.98568722,  0.32837259,  0.32212472]])"
      ]
     },
     "execution_count": 29,
     "metadata": {},
     "output_type": "execute_result"
    }
   ],
   "execution_count": 29
  },
  {
   "metadata": {},
   "cell_type": "markdown",
   "source": "2数组的索引、切片",
   "id": "cc5b732e9fbd39b8"
  },
  {
   "metadata": {
    "ExecuteTime": {
     "end_time": "2025-02-16T10:09:53.200497Z",
     "start_time": "2025-02-16T10:09:53.190545Z"
    }
   },
   "cell_type": "code",
   "source": "stock_change[0,1:4]",
   "id": "2c52c2f5f30a06e1",
   "outputs": [
    {
     "data": {
      "text/plain": [
       "array([-1.16913283, -0.95495238,  0.46820416])"
      ]
     },
     "execution_count": 38,
     "metadata": {},
     "output_type": "execute_result"
    }
   ],
   "execution_count": 38
  },
  {
   "metadata": {
    "ExecuteTime": {
     "end_time": "2025-02-16T10:05:40.953681Z",
     "start_time": "2025-02-16T10:05:40.944808Z"
    }
   },
   "cell_type": "code",
   "source": "a1=np.array([[[1,2,3],[4,5,6]],[[12,35,45],[54,4,76]]])",
   "id": "a4fb532364ba241e",
   "outputs": [],
   "execution_count": 32
  },
  {
   "metadata": {
    "ExecuteTime": {
     "end_time": "2025-02-16T10:05:48.238493Z",
     "start_time": "2025-02-16T10:05:48.231195Z"
    }
   },
   "cell_type": "code",
   "source": "a1",
   "id": "8ceed464dacc7024",
   "outputs": [
    {
     "data": {
      "text/plain": [
       "array([[[ 1,  2,  3],\n",
       "        [ 4,  5,  6]],\n",
       "\n",
       "       [[12, 35, 45],\n",
       "        [54,  4, 76]]])"
      ]
     },
     "execution_count": 33,
     "metadata": {},
     "output_type": "execute_result"
    }
   ],
   "execution_count": 33
  },
  {
   "metadata": {
    "ExecuteTime": {
     "end_time": "2025-02-16T10:07:21.327772Z",
     "start_time": "2025-02-16T10:07:21.318295Z"
    }
   },
   "cell_type": "code",
   "source": "a1[1,0,0]",
   "id": "9bc2b57ed4fea604",
   "outputs": [
    {
     "data": {
      "text/plain": [
       "np.int64(12)"
      ]
     },
     "execution_count": 34,
     "metadata": {},
     "output_type": "execute_result"
    }
   ],
   "execution_count": 34
  },
  {
   "metadata": {},
   "cell_type": "markdown",
   "source": "3形状修改",
   "id": "ac74dcba3c1008da"
  },
  {
   "metadata": {},
   "cell_type": "markdown",
   "source": "3.1ndarry.reshape()",
   "id": "322792a1e8f0b477"
  },
  {
   "metadata": {
    "ExecuteTime": {
     "end_time": "2025-02-16T10:21:54.542571Z",
     "start_time": "2025-02-16T10:21:54.529648Z"
    }
   },
   "cell_type": "code",
   "source": [
    "#stock_change.reshape([5,4])##将其改为5行4列\n",
    "#stock_change.reshape(-1,10)##数据修改为（2，10），-1：表示通过带计算"
   ],
   "id": "9c2b504ffdaab97",
   "outputs": [],
   "execution_count": 41
  },
  {
   "metadata": {},
   "cell_type": "markdown",
   "source": "3.2ndarry.resize(new_shape)\n",
   "id": "9679e0dbc2e0c7c0"
  },
  {
   "metadata": {},
   "cell_type": "markdown",
   "source": "3.3ndarry.T转置",
   "id": "f93496a9576f7973"
  },
  {
   "metadata": {},
   "cell_type": "markdown",
   "source": "4数组改类型",
   "id": "aec56abcc2c5f474"
  },
  {
   "metadata": {},
   "cell_type": "markdown",
   "source": "5数组的去重",
   "id": "dba0212673236a9c"
  },
  {
   "metadata": {},
   "cell_type": "markdown",
   "source": "",
   "id": "a8d3d53097a4ff4d"
  }
 ],
 "metadata": {
  "kernelspec": {
   "display_name": "Python 3",
   "language": "python",
   "name": "python3"
  },
  "language_info": {
   "codemirror_mode": {
    "name": "ipython",
    "version": 2
   },
   "file_extension": ".py",
   "mimetype": "text/x-python",
   "name": "python",
   "nbconvert_exporter": "python",
   "pygments_lexer": "ipython2",
   "version": "2.7.6"
  }
 },
 "nbformat": 4,
 "nbformat_minor": 5
}
