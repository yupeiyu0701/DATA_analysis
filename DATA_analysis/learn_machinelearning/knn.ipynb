{
 "cells": [
  {
   "cell_type": "code",
   "execution_count": null,
   "id": "initial_id",
   "metadata": {
    "collapsed": true
   },
   "outputs": [],
   "source": [
    "# sklearn.neighbors.KNeighborsClassifier(n_neighbors=5)\n",
    "# n_neighbors :int,可选（默认=5），k_neighbors查询默认使用的邻居数"
   ]
  },
  {
   "metadata": {
    "ExecuteTime": {
     "end_time": "2025-02-23T02:56:42.489287Z",
     "start_time": "2025-02-23T02:56:40.327313Z"
    }
   },
   "cell_type": "code",
   "source": "from sklearn.neighbors import KNeighborsClassifier",
   "id": "5f5809d681a31c26",
   "outputs": [],
   "execution_count": 1
  },
  {
   "metadata": {
    "ExecuteTime": {
     "end_time": "2025-02-23T03:33:43.404012Z",
     "start_time": "2025-02-23T03:33:43.397181Z"
    }
   },
   "cell_type": "code",
   "source": [
    "x=[[0],[1],[2],[3]]\n",
    "y=[0,0,1,1]"
   ],
   "id": "5e498a53ed8d361c",
   "outputs": [],
   "execution_count": 3
  },
  {
   "metadata": {
    "ExecuteTime": {
     "end_time": "2025-02-23T03:35:58.941172Z",
     "start_time": "2025-02-23T03:35:58.921499Z"
    }
   },
   "cell_type": "code",
   "source": [
    "#实例化一个估计器6对象\n",
    "estimator=KNeighborsClassifier(n_neighbors=1)\n",
    "#调用fit方法，进行训练\n",
    "estimator.fit(x,y)\n",
    "# 数据预测\n",
    "ret=estimator.predict([[1.50]])\n",
    "print(ret)"
   ],
   "id": "fab255807abdc2ad",
   "outputs": [
    {
     "name": "stdout",
     "output_type": "stream",
     "text": [
      "[0]\n"
     ]
    }
   ],
   "execution_count": 10
  },
  {
   "metadata": {},
   "cell_type": "code",
   "outputs": [],
   "execution_count": null,
   "source": "",
   "id": "c0c3bc13ff8744fb"
  }
 ],
 "metadata": {
  "kernelspec": {
   "display_name": "Python 3",
   "language": "python",
   "name": "python3"
  },
  "language_info": {
   "codemirror_mode": {
    "name": "ipython",
    "version": 2
   },
   "file_extension": ".py",
   "mimetype": "text/x-python",
   "name": "python",
   "nbconvert_exporter": "python",
   "pygments_lexer": "ipython2",
   "version": "2.7.6"
  }
 },
 "nbformat": 4,
 "nbformat_minor": 5
}
