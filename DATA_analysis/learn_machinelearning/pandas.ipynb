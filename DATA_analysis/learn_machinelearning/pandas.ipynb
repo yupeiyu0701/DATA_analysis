{
 "cells": [
  {
   "cell_type": "code",
   "id": "initial_id",
   "metadata": {
    "collapsed": true,
    "ExecuteTime": {
     "end_time": "2025-02-22T07:50:49.121935Z",
     "start_time": "2025-02-22T07:50:49.117099Z"
    }
   },
   "source": [
    "#series\n",
    "##series的创建"
   ],
   "outputs": [],
   "execution_count": 9
  },
  {
   "metadata": {
    "ExecuteTime": {
     "end_time": "2025-02-22T07:50:49.159939Z",
     "start_time": "2025-02-22T07:50:49.150715Z"
    }
   },
   "cell_type": "code",
   "source": "pd.Series(np.arange(9))",
   "id": "8c281d14f5238fbc",
   "outputs": [
    {
     "data": {
      "text/plain": [
       "0    0\n",
       "1    1\n",
       "2    2\n",
       "3    3\n",
       "4    4\n",
       "5    5\n",
       "6    6\n",
       "7    7\n",
       "8    8\n",
       "dtype: int64"
      ]
     },
     "execution_count": 10,
     "metadata": {},
     "output_type": "execute_result"
    }
   ],
   "execution_count": 10
  },
  {
   "metadata": {
    "ExecuteTime": {
     "end_time": "2025-02-22T07:50:49.254141Z",
     "start_time": "2025-02-22T07:50:49.224857Z"
    }
   },
   "cell_type": "code",
   "source": "pd.Series([1.2,2.3,4.5,5.0],index=['a','b','c','d'])",
   "id": "31290a48c68ed99c",
   "outputs": [
    {
     "data": {
      "text/plain": [
       "a    1.2\n",
       "b    2.3\n",
       "c    4.5\n",
       "d    5.0\n",
       "dtype: float64"
      ]
     },
     "execution_count": 11,
     "metadata": {},
     "output_type": "execute_result"
    }
   ],
   "execution_count": 11
  },
  {
   "metadata": {
    "ExecuteTime": {
     "end_time": "2025-02-22T07:50:49.337573Z",
     "start_time": "2025-02-22T07:50:49.332302Z"
    }
   },
   "cell_type": "code",
   "source": "color_count=pd.Series({\"red\":10,\"green\":20,\"blue\":30})",
   "id": "7ef92edb2380bb6a",
   "outputs": [],
   "execution_count": 12
  },
  {
   "metadata": {
    "ExecuteTime": {
     "end_time": "2025-02-22T07:50:49.464418Z",
     "start_time": "2025-02-22T07:50:49.455715Z"
    }
   },
   "cell_type": "code",
   "source": "color_count",
   "id": "7d78f569c9239a",
   "outputs": [
    {
     "data": {
      "text/plain": [
       "red      10\n",
       "green    20\n",
       "blue     30\n",
       "dtype: int64"
      ]
     },
     "execution_count": 13,
     "metadata": {},
     "output_type": "execute_result"
    }
   ],
   "execution_count": 13
  },
  {
   "metadata": {},
   "cell_type": "markdown",
   "source": "1.2series的属性",
   "id": "bdc9d8048ff6702"
  },
  {
   "metadata": {
    "ExecuteTime": {
     "end_time": "2025-02-22T07:50:49.564399Z",
     "start_time": "2025-02-22T07:50:49.555910Z"
    }
   },
   "cell_type": "code",
   "source": "color_count.index",
   "id": "f425ae3caefba77",
   "outputs": [
    {
     "data": {
      "text/plain": [
       "Index(['red', 'green', 'blue'], dtype='object')"
      ]
     },
     "execution_count": 14,
     "metadata": {},
     "output_type": "execute_result"
    }
   ],
   "execution_count": 14
  },
  {
   "metadata": {
    "ExecuteTime": {
     "end_time": "2025-02-22T07:50:49.728867Z",
     "start_time": "2025-02-22T07:50:49.716195Z"
    }
   },
   "cell_type": "code",
   "source": "color_count.values",
   "id": "328be3e5dfb9b9dc",
   "outputs": [
    {
     "data": {
      "text/plain": [
       "array([10, 20, 30])"
      ]
     },
     "execution_count": 15,
     "metadata": {},
     "output_type": "execute_result"
    }
   ],
   "execution_count": 15
  },
  {
   "metadata": {
    "ExecuteTime": {
     "end_time": "2025-02-22T07:50:50.098351Z",
     "start_time": "2025-02-22T07:50:50.091178Z"
    }
   },
   "cell_type": "code",
   "source": "color_count[2]",
   "id": "9362c1a2b41dc71f",
   "outputs": [
    {
     "name": "stderr",
     "output_type": "stream",
     "text": [
      "C:\\Users\\22793\\AppData\\Local\\Temp\\ipykernel_14192\\1319523636.py:1: FutureWarning: Series.__getitem__ treating keys as positions is deprecated. In a future version, integer keys will always be treated as labels (consistent with DataFrame behavior). To access a value by position, use `ser.iloc[pos]`\n",
      "  color_count[2]\n"
     ]
    },
    {
     "data": {
      "text/plain": [
       "np.int64(30)"
      ]
     },
     "execution_count": 16,
     "metadata": {},
     "output_type": "execute_result"
    }
   ],
   "execution_count": 16
  },
  {
   "metadata": {},
   "cell_type": "markdown",
   "source": "2DataFrame",
   "id": "1158c380823fc71a"
  },
  {
   "metadata": {},
   "cell_type": "markdown",
   "source": "2.1DataFrame创建",
   "id": "e0d23af856082e45"
  },
  {
   "metadata": {
    "ExecuteTime": {
     "end_time": "2025-02-22T07:50:50.161121Z",
     "start_time": "2025-02-22T07:50:50.145026Z"
    }
   },
   "cell_type": "code",
   "source": "pd.DataFrame(np.random.randn(2,3))",
   "id": "53052f9d70107538",
   "outputs": [
    {
     "data": {
      "text/plain": [
       "          0         1         2\n",
       "0 -0.022991  3.747096 -0.849116\n",
       "1  0.399267 -0.169382 -0.737816"
      ],
      "text/html": [
       "<div>\n",
       "<style scoped>\n",
       "    .dataframe tbody tr th:only-of-type {\n",
       "        vertical-align: middle;\n",
       "    }\n",
       "\n",
       "    .dataframe tbody tr th {\n",
       "        vertical-align: top;\n",
       "    }\n",
       "\n",
       "    .dataframe thead th {\n",
       "        text-align: right;\n",
       "    }\n",
       "</style>\n",
       "<table border=\"1\" class=\"dataframe\">\n",
       "  <thead>\n",
       "    <tr style=\"text-align: right;\">\n",
       "      <th></th>\n",
       "      <th>0</th>\n",
       "      <th>1</th>\n",
       "      <th>2</th>\n",
       "    </tr>\n",
       "  </thead>\n",
       "  <tbody>\n",
       "    <tr>\n",
       "      <th>0</th>\n",
       "      <td>-0.022991</td>\n",
       "      <td>3.747096</td>\n",
       "      <td>-0.849116</td>\n",
       "    </tr>\n",
       "    <tr>\n",
       "      <th>1</th>\n",
       "      <td>0.399267</td>\n",
       "      <td>-0.169382</td>\n",
       "      <td>-0.737816</td>\n",
       "    </tr>\n",
       "  </tbody>\n",
       "</table>\n",
       "</div>"
      ]
     },
     "execution_count": 17,
     "metadata": {},
     "output_type": "execute_result"
    }
   ],
   "execution_count": 17
  },
  {
   "metadata": {
    "ExecuteTime": {
     "end_time": "2025-02-22T07:50:50.299153Z",
     "start_time": "2025-02-22T07:50:50.289426Z"
    }
   },
   "cell_type": "code",
   "source": [
    "score = np.random.randint(40,100,(10,5))\n",
    "score"
   ],
   "id": "208ef7ebe0fb069e",
   "outputs": [
    {
     "data": {
      "text/plain": [
       "array([[87, 42, 60, 90, 40],\n",
       "       [97, 91, 40, 52, 59],\n",
       "       [89, 71, 83, 62, 88],\n",
       "       [82, 98, 76, 61, 82],\n",
       "       [99, 80, 78, 83, 40],\n",
       "       [50, 97, 60, 89, 89],\n",
       "       [66, 85, 41, 88, 59],\n",
       "       [99, 87, 96, 48, 86],\n",
       "       [65, 84, 50, 41, 85],\n",
       "       [57, 64, 43, 51, 63]], dtype=int32)"
      ]
     },
     "execution_count": 18,
     "metadata": {},
     "output_type": "execute_result"
    }
   ],
   "execution_count": 18
  },
  {
   "metadata": {
    "ExecuteTime": {
     "end_time": "2025-02-22T07:50:50.384607Z",
     "start_time": "2025-02-22T07:50:50.373669Z"
    }
   },
   "cell_type": "code",
   "source": [
    "score_define=pd.DataFrame(score)\n",
    "score_define"
   ],
   "id": "85aeff3500e19b86",
   "outputs": [
    {
     "data": {
      "text/plain": [
       "    0   1   2   3   4\n",
       "0  87  42  60  90  40\n",
       "1  97  91  40  52  59\n",
       "2  89  71  83  62  88\n",
       "3  82  98  76  61  82\n",
       "4  99  80  78  83  40\n",
       "5  50  97  60  89  89\n",
       "6  66  85  41  88  59\n",
       "7  99  87  96  48  86\n",
       "8  65  84  50  41  85\n",
       "9  57  64  43  51  63"
      ],
      "text/html": [
       "<div>\n",
       "<style scoped>\n",
       "    .dataframe tbody tr th:only-of-type {\n",
       "        vertical-align: middle;\n",
       "    }\n",
       "\n",
       "    .dataframe tbody tr th {\n",
       "        vertical-align: top;\n",
       "    }\n",
       "\n",
       "    .dataframe thead th {\n",
       "        text-align: right;\n",
       "    }\n",
       "</style>\n",
       "<table border=\"1\" class=\"dataframe\">\n",
       "  <thead>\n",
       "    <tr style=\"text-align: right;\">\n",
       "      <th></th>\n",
       "      <th>0</th>\n",
       "      <th>1</th>\n",
       "      <th>2</th>\n",
       "      <th>3</th>\n",
       "      <th>4</th>\n",
       "    </tr>\n",
       "  </thead>\n",
       "  <tbody>\n",
       "    <tr>\n",
       "      <th>0</th>\n",
       "      <td>87</td>\n",
       "      <td>42</td>\n",
       "      <td>60</td>\n",
       "      <td>90</td>\n",
       "      <td>40</td>\n",
       "    </tr>\n",
       "    <tr>\n",
       "      <th>1</th>\n",
       "      <td>97</td>\n",
       "      <td>91</td>\n",
       "      <td>40</td>\n",
       "      <td>52</td>\n",
       "      <td>59</td>\n",
       "    </tr>\n",
       "    <tr>\n",
       "      <th>2</th>\n",
       "      <td>89</td>\n",
       "      <td>71</td>\n",
       "      <td>83</td>\n",
       "      <td>62</td>\n",
       "      <td>88</td>\n",
       "    </tr>\n",
       "    <tr>\n",
       "      <th>3</th>\n",
       "      <td>82</td>\n",
       "      <td>98</td>\n",
       "      <td>76</td>\n",
       "      <td>61</td>\n",
       "      <td>82</td>\n",
       "    </tr>\n",
       "    <tr>\n",
       "      <th>4</th>\n",
       "      <td>99</td>\n",
       "      <td>80</td>\n",
       "      <td>78</td>\n",
       "      <td>83</td>\n",
       "      <td>40</td>\n",
       "    </tr>\n",
       "    <tr>\n",
       "      <th>5</th>\n",
       "      <td>50</td>\n",
       "      <td>97</td>\n",
       "      <td>60</td>\n",
       "      <td>89</td>\n",
       "      <td>89</td>\n",
       "    </tr>\n",
       "    <tr>\n",
       "      <th>6</th>\n",
       "      <td>66</td>\n",
       "      <td>85</td>\n",
       "      <td>41</td>\n",
       "      <td>88</td>\n",
       "      <td>59</td>\n",
       "    </tr>\n",
       "    <tr>\n",
       "      <th>7</th>\n",
       "      <td>99</td>\n",
       "      <td>87</td>\n",
       "      <td>96</td>\n",
       "      <td>48</td>\n",
       "      <td>86</td>\n",
       "    </tr>\n",
       "    <tr>\n",
       "      <th>8</th>\n",
       "      <td>65</td>\n",
       "      <td>84</td>\n",
       "      <td>50</td>\n",
       "      <td>41</td>\n",
       "      <td>85</td>\n",
       "    </tr>\n",
       "    <tr>\n",
       "      <th>9</th>\n",
       "      <td>57</td>\n",
       "      <td>64</td>\n",
       "      <td>43</td>\n",
       "      <td>51</td>\n",
       "      <td>63</td>\n",
       "    </tr>\n",
       "  </tbody>\n",
       "</table>\n",
       "</div>"
      ]
     },
     "execution_count": 19,
     "metadata": {},
     "output_type": "execute_result"
    }
   ],
   "execution_count": 19
  },
  {
   "metadata": {
    "ExecuteTime": {
     "end_time": "2025-02-22T07:50:50.603468Z",
     "start_time": "2025-02-22T07:50:50.597700Z"
    }
   },
   "cell_type": "code",
   "source": [
    "subject = [\"语文\",\"数学\",\"英语\",\"政治\",\"体育\"]\n",
    "stu=['同学'+str(i+1) for i in range(score_define.shape[0])]\n",
    "data=pd.DataFrame(score,columns=subject,index=stu)"
   ],
   "id": "1ae0f9639792c9e",
   "outputs": [],
   "execution_count": 20
  },
  {
   "metadata": {
    "ExecuteTime": {
     "end_time": "2025-02-22T07:50:50.750273Z",
     "start_time": "2025-02-22T07:50:50.737301Z"
    }
   },
   "cell_type": "code",
   "source": "data",
   "id": "d245bfe1a9d1eeac",
   "outputs": [
    {
     "data": {
      "text/plain": [
       "      语文  数学  英语  政治  体育\n",
       "同学1   87  42  60  90  40\n",
       "同学2   97  91  40  52  59\n",
       "同学3   89  71  83  62  88\n",
       "同学4   82  98  76  61  82\n",
       "同学5   99  80  78  83  40\n",
       "同学6   50  97  60  89  89\n",
       "同学7   66  85  41  88  59\n",
       "同学8   99  87  96  48  86\n",
       "同学9   65  84  50  41  85\n",
       "同学10  57  64  43  51  63"
      ],
      "text/html": [
       "<div>\n",
       "<style scoped>\n",
       "    .dataframe tbody tr th:only-of-type {\n",
       "        vertical-align: middle;\n",
       "    }\n",
       "\n",
       "    .dataframe tbody tr th {\n",
       "        vertical-align: top;\n",
       "    }\n",
       "\n",
       "    .dataframe thead th {\n",
       "        text-align: right;\n",
       "    }\n",
       "</style>\n",
       "<table border=\"1\" class=\"dataframe\">\n",
       "  <thead>\n",
       "    <tr style=\"text-align: right;\">\n",
       "      <th></th>\n",
       "      <th>语文</th>\n",
       "      <th>数学</th>\n",
       "      <th>英语</th>\n",
       "      <th>政治</th>\n",
       "      <th>体育</th>\n",
       "    </tr>\n",
       "  </thead>\n",
       "  <tbody>\n",
       "    <tr>\n",
       "      <th>同学1</th>\n",
       "      <td>87</td>\n",
       "      <td>42</td>\n",
       "      <td>60</td>\n",
       "      <td>90</td>\n",
       "      <td>40</td>\n",
       "    </tr>\n",
       "    <tr>\n",
       "      <th>同学2</th>\n",
       "      <td>97</td>\n",
       "      <td>91</td>\n",
       "      <td>40</td>\n",
       "      <td>52</td>\n",
       "      <td>59</td>\n",
       "    </tr>\n",
       "    <tr>\n",
       "      <th>同学3</th>\n",
       "      <td>89</td>\n",
       "      <td>71</td>\n",
       "      <td>83</td>\n",
       "      <td>62</td>\n",
       "      <td>88</td>\n",
       "    </tr>\n",
       "    <tr>\n",
       "      <th>同学4</th>\n",
       "      <td>82</td>\n",
       "      <td>98</td>\n",
       "      <td>76</td>\n",
       "      <td>61</td>\n",
       "      <td>82</td>\n",
       "    </tr>\n",
       "    <tr>\n",
       "      <th>同学5</th>\n",
       "      <td>99</td>\n",
       "      <td>80</td>\n",
       "      <td>78</td>\n",
       "      <td>83</td>\n",
       "      <td>40</td>\n",
       "    </tr>\n",
       "    <tr>\n",
       "      <th>同学6</th>\n",
       "      <td>50</td>\n",
       "      <td>97</td>\n",
       "      <td>60</td>\n",
       "      <td>89</td>\n",
       "      <td>89</td>\n",
       "    </tr>\n",
       "    <tr>\n",
       "      <th>同学7</th>\n",
       "      <td>66</td>\n",
       "      <td>85</td>\n",
       "      <td>41</td>\n",
       "      <td>88</td>\n",
       "      <td>59</td>\n",
       "    </tr>\n",
       "    <tr>\n",
       "      <th>同学8</th>\n",
       "      <td>99</td>\n",
       "      <td>87</td>\n",
       "      <td>96</td>\n",
       "      <td>48</td>\n",
       "      <td>86</td>\n",
       "    </tr>\n",
       "    <tr>\n",
       "      <th>同学9</th>\n",
       "      <td>65</td>\n",
       "      <td>84</td>\n",
       "      <td>50</td>\n",
       "      <td>41</td>\n",
       "      <td>85</td>\n",
       "    </tr>\n",
       "    <tr>\n",
       "      <th>同学10</th>\n",
       "      <td>57</td>\n",
       "      <td>64</td>\n",
       "      <td>43</td>\n",
       "      <td>51</td>\n",
       "      <td>63</td>\n",
       "    </tr>\n",
       "  </tbody>\n",
       "</table>\n",
       "</div>"
      ]
     },
     "execution_count": 21,
     "metadata": {},
     "output_type": "execute_result"
    }
   ],
   "execution_count": 21
  },
  {
   "metadata": {
    "ExecuteTime": {
     "end_time": "2025-02-22T07:50:50.907572Z",
     "start_time": "2025-02-22T07:50:50.903781Z"
    }
   },
   "cell_type": "code",
   "source": "#data.T",
   "id": "436685fc5da3df87",
   "outputs": [],
   "execution_count": 22
  },
  {
   "metadata": {
    "ExecuteTime": {
     "end_time": "2025-02-22T07:50:51.088406Z",
     "start_time": "2025-02-22T07:50:51.077283Z"
    }
   },
   "cell_type": "code",
   "source": "data.head(6)",
   "id": "e88c0ac0c63a6acb",
   "outputs": [
    {
     "data": {
      "text/plain": [
       "     语文  数学  英语  政治  体育\n",
       "同学1  87  42  60  90  40\n",
       "同学2  97  91  40  52  59\n",
       "同学3  89  71  83  62  88\n",
       "同学4  82  98  76  61  82\n",
       "同学5  99  80  78  83  40\n",
       "同学6  50  97  60  89  89"
      ],
      "text/html": [
       "<div>\n",
       "<style scoped>\n",
       "    .dataframe tbody tr th:only-of-type {\n",
       "        vertical-align: middle;\n",
       "    }\n",
       "\n",
       "    .dataframe tbody tr th {\n",
       "        vertical-align: top;\n",
       "    }\n",
       "\n",
       "    .dataframe thead th {\n",
       "        text-align: right;\n",
       "    }\n",
       "</style>\n",
       "<table border=\"1\" class=\"dataframe\">\n",
       "  <thead>\n",
       "    <tr style=\"text-align: right;\">\n",
       "      <th></th>\n",
       "      <th>语文</th>\n",
       "      <th>数学</th>\n",
       "      <th>英语</th>\n",
       "      <th>政治</th>\n",
       "      <th>体育</th>\n",
       "    </tr>\n",
       "  </thead>\n",
       "  <tbody>\n",
       "    <tr>\n",
       "      <th>同学1</th>\n",
       "      <td>87</td>\n",
       "      <td>42</td>\n",
       "      <td>60</td>\n",
       "      <td>90</td>\n",
       "      <td>40</td>\n",
       "    </tr>\n",
       "    <tr>\n",
       "      <th>同学2</th>\n",
       "      <td>97</td>\n",
       "      <td>91</td>\n",
       "      <td>40</td>\n",
       "      <td>52</td>\n",
       "      <td>59</td>\n",
       "    </tr>\n",
       "    <tr>\n",
       "      <th>同学3</th>\n",
       "      <td>89</td>\n",
       "      <td>71</td>\n",
       "      <td>83</td>\n",
       "      <td>62</td>\n",
       "      <td>88</td>\n",
       "    </tr>\n",
       "    <tr>\n",
       "      <th>同学4</th>\n",
       "      <td>82</td>\n",
       "      <td>98</td>\n",
       "      <td>76</td>\n",
       "      <td>61</td>\n",
       "      <td>82</td>\n",
       "    </tr>\n",
       "    <tr>\n",
       "      <th>同学5</th>\n",
       "      <td>99</td>\n",
       "      <td>80</td>\n",
       "      <td>78</td>\n",
       "      <td>83</td>\n",
       "      <td>40</td>\n",
       "    </tr>\n",
       "    <tr>\n",
       "      <th>同学6</th>\n",
       "      <td>50</td>\n",
       "      <td>97</td>\n",
       "      <td>60</td>\n",
       "      <td>89</td>\n",
       "      <td>89</td>\n",
       "    </tr>\n",
       "  </tbody>\n",
       "</table>\n",
       "</div>"
      ]
     },
     "execution_count": 23,
     "metadata": {},
     "output_type": "execute_result"
    }
   ],
   "execution_count": 23
  },
  {
   "metadata": {
    "ExecuteTime": {
     "end_time": "2025-02-22T07:50:51.246997Z",
     "start_time": "2025-02-22T07:50:51.236973Z"
    }
   },
   "cell_type": "code",
   "source": "data.tail(5)",
   "id": "ef571e6ee86f4425",
   "outputs": [
    {
     "data": {
      "text/plain": [
       "      语文  数学  英语  政治  体育\n",
       "同学6   50  97  60  89  89\n",
       "同学7   66  85  41  88  59\n",
       "同学8   99  87  96  48  86\n",
       "同学9   65  84  50  41  85\n",
       "同学10  57  64  43  51  63"
      ],
      "text/html": [
       "<div>\n",
       "<style scoped>\n",
       "    .dataframe tbody tr th:only-of-type {\n",
       "        vertical-align: middle;\n",
       "    }\n",
       "\n",
       "    .dataframe tbody tr th {\n",
       "        vertical-align: top;\n",
       "    }\n",
       "\n",
       "    .dataframe thead th {\n",
       "        text-align: right;\n",
       "    }\n",
       "</style>\n",
       "<table border=\"1\" class=\"dataframe\">\n",
       "  <thead>\n",
       "    <tr style=\"text-align: right;\">\n",
       "      <th></th>\n",
       "      <th>语文</th>\n",
       "      <th>数学</th>\n",
       "      <th>英语</th>\n",
       "      <th>政治</th>\n",
       "      <th>体育</th>\n",
       "    </tr>\n",
       "  </thead>\n",
       "  <tbody>\n",
       "    <tr>\n",
       "      <th>同学6</th>\n",
       "      <td>50</td>\n",
       "      <td>97</td>\n",
       "      <td>60</td>\n",
       "      <td>89</td>\n",
       "      <td>89</td>\n",
       "    </tr>\n",
       "    <tr>\n",
       "      <th>同学7</th>\n",
       "      <td>66</td>\n",
       "      <td>85</td>\n",
       "      <td>41</td>\n",
       "      <td>88</td>\n",
       "      <td>59</td>\n",
       "    </tr>\n",
       "    <tr>\n",
       "      <th>同学8</th>\n",
       "      <td>99</td>\n",
       "      <td>87</td>\n",
       "      <td>96</td>\n",
       "      <td>48</td>\n",
       "      <td>86</td>\n",
       "    </tr>\n",
       "    <tr>\n",
       "      <th>同学9</th>\n",
       "      <td>65</td>\n",
       "      <td>84</td>\n",
       "      <td>50</td>\n",
       "      <td>41</td>\n",
       "      <td>85</td>\n",
       "    </tr>\n",
       "    <tr>\n",
       "      <th>同学10</th>\n",
       "      <td>57</td>\n",
       "      <td>64</td>\n",
       "      <td>43</td>\n",
       "      <td>51</td>\n",
       "      <td>63</td>\n",
       "    </tr>\n",
       "  </tbody>\n",
       "</table>\n",
       "</div>"
      ]
     },
     "execution_count": 24,
     "metadata": {},
     "output_type": "execute_result"
    }
   ],
   "execution_count": 24
  },
  {
   "metadata": {},
   "cell_type": "markdown",
   "source": "修改行列索引值，只能必须全部修改",
   "id": "e04001a51a5ea3bf"
  },
  {
   "metadata": {
    "ExecuteTime": {
     "end_time": "2025-02-22T07:50:51.403995Z",
     "start_time": "2025-02-22T07:50:51.399429Z"
    }
   },
   "cell_type": "code",
   "source": [
    "# data.reset_index(drop=True/False)\n",
    "# drop默认为False,不删除原来的索引，如果为True，删除原来的索引"
   ],
   "id": "d669646c9a0b9c76",
   "outputs": [],
   "execution_count": 25
  },
  {
   "metadata": {
    "ExecuteTime": {
     "end_time": "2025-02-22T07:50:51.589677Z",
     "start_time": "2025-02-22T07:50:51.576751Z"
    }
   },
   "cell_type": "code",
   "source": [
    "df = pd.DataFrame({'mouth':[1,4,7,10],\n",
    "                   'year':[2012,2014,2016,2018],\n",
    "                   'sale':[44,46,23,67]})\n",
    "df\n"
   ],
   "id": "174d1dd1b7a8ef4d",
   "outputs": [
    {
     "data": {
      "text/plain": [
       "   mouth  year  sale\n",
       "0      1  2012    44\n",
       "1      4  2014    46\n",
       "2      7  2016    23\n",
       "3     10  2018    67"
      ],
      "text/html": [
       "<div>\n",
       "<style scoped>\n",
       "    .dataframe tbody tr th:only-of-type {\n",
       "        vertical-align: middle;\n",
       "    }\n",
       "\n",
       "    .dataframe tbody tr th {\n",
       "        vertical-align: top;\n",
       "    }\n",
       "\n",
       "    .dataframe thead th {\n",
       "        text-align: right;\n",
       "    }\n",
       "</style>\n",
       "<table border=\"1\" class=\"dataframe\">\n",
       "  <thead>\n",
       "    <tr style=\"text-align: right;\">\n",
       "      <th></th>\n",
       "      <th>mouth</th>\n",
       "      <th>year</th>\n",
       "      <th>sale</th>\n",
       "    </tr>\n",
       "  </thead>\n",
       "  <tbody>\n",
       "    <tr>\n",
       "      <th>0</th>\n",
       "      <td>1</td>\n",
       "      <td>2012</td>\n",
       "      <td>44</td>\n",
       "    </tr>\n",
       "    <tr>\n",
       "      <th>1</th>\n",
       "      <td>4</td>\n",
       "      <td>2014</td>\n",
       "      <td>46</td>\n",
       "    </tr>\n",
       "    <tr>\n",
       "      <th>2</th>\n",
       "      <td>7</td>\n",
       "      <td>2016</td>\n",
       "      <td>23</td>\n",
       "    </tr>\n",
       "    <tr>\n",
       "      <th>3</th>\n",
       "      <td>10</td>\n",
       "      <td>2018</td>\n",
       "      <td>67</td>\n",
       "    </tr>\n",
       "  </tbody>\n",
       "</table>\n",
       "</div>"
      ]
     },
     "execution_count": 26,
     "metadata": {},
     "output_type": "execute_result"
    }
   ],
   "execution_count": 26
  },
  {
   "metadata": {
    "ExecuteTime": {
     "end_time": "2025-02-22T07:50:51.743779Z",
     "start_time": "2025-02-22T07:50:51.730880Z"
    }
   },
   "cell_type": "code",
   "source": "df.set_index('year')",
   "id": "b96775951019b61",
   "outputs": [
    {
     "data": {
      "text/plain": [
       "      mouth  sale\n",
       "year             \n",
       "2012      1    44\n",
       "2014      4    46\n",
       "2016      7    23\n",
       "2018     10    67"
      ],
      "text/html": [
       "<div>\n",
       "<style scoped>\n",
       "    .dataframe tbody tr th:only-of-type {\n",
       "        vertical-align: middle;\n",
       "    }\n",
       "\n",
       "    .dataframe tbody tr th {\n",
       "        vertical-align: top;\n",
       "    }\n",
       "\n",
       "    .dataframe thead th {\n",
       "        text-align: right;\n",
       "    }\n",
       "</style>\n",
       "<table border=\"1\" class=\"dataframe\">\n",
       "  <thead>\n",
       "    <tr style=\"text-align: right;\">\n",
       "      <th></th>\n",
       "      <th>mouth</th>\n",
       "      <th>sale</th>\n",
       "    </tr>\n",
       "    <tr>\n",
       "      <th>year</th>\n",
       "      <th></th>\n",
       "      <th></th>\n",
       "    </tr>\n",
       "  </thead>\n",
       "  <tbody>\n",
       "    <tr>\n",
       "      <th>2012</th>\n",
       "      <td>1</td>\n",
       "      <td>44</td>\n",
       "    </tr>\n",
       "    <tr>\n",
       "      <th>2014</th>\n",
       "      <td>4</td>\n",
       "      <td>46</td>\n",
       "    </tr>\n",
       "    <tr>\n",
       "      <th>2016</th>\n",
       "      <td>7</td>\n",
       "      <td>23</td>\n",
       "    </tr>\n",
       "    <tr>\n",
       "      <th>2018</th>\n",
       "      <td>10</td>\n",
       "      <td>67</td>\n",
       "    </tr>\n",
       "  </tbody>\n",
       "</table>\n",
       "</div>"
      ]
     },
     "execution_count": 27,
     "metadata": {},
     "output_type": "execute_result"
    }
   ],
   "execution_count": 27
  },
  {
   "metadata": {
    "ExecuteTime": {
     "end_time": "2025-02-22T07:50:51.974947Z",
     "start_time": "2025-02-22T07:50:51.942113Z"
    }
   },
   "cell_type": "code",
   "source": [
    "df=df.set_index(['year','mouth'])\n",
    "df"
   ],
   "id": "f914f75c73f2d1a5",
   "outputs": [
    {
     "data": {
      "text/plain": [
       "            sale\n",
       "year mouth      \n",
       "2012 1        44\n",
       "2014 4        46\n",
       "2016 7        23\n",
       "2018 10       67"
      ],
      "text/html": [
       "<div>\n",
       "<style scoped>\n",
       "    .dataframe tbody tr th:only-of-type {\n",
       "        vertical-align: middle;\n",
       "    }\n",
       "\n",
       "    .dataframe tbody tr th {\n",
       "        vertical-align: top;\n",
       "    }\n",
       "\n",
       "    .dataframe thead th {\n",
       "        text-align: right;\n",
       "    }\n",
       "</style>\n",
       "<table border=\"1\" class=\"dataframe\">\n",
       "  <thead>\n",
       "    <tr style=\"text-align: right;\">\n",
       "      <th></th>\n",
       "      <th></th>\n",
       "      <th>sale</th>\n",
       "    </tr>\n",
       "    <tr>\n",
       "      <th>year</th>\n",
       "      <th>mouth</th>\n",
       "      <th></th>\n",
       "    </tr>\n",
       "  </thead>\n",
       "  <tbody>\n",
       "    <tr>\n",
       "      <th>2012</th>\n",
       "      <th>1</th>\n",
       "      <td>44</td>\n",
       "    </tr>\n",
       "    <tr>\n",
       "      <th>2014</th>\n",
       "      <th>4</th>\n",
       "      <td>46</td>\n",
       "    </tr>\n",
       "    <tr>\n",
       "      <th>2016</th>\n",
       "      <th>7</th>\n",
       "      <td>23</td>\n",
       "    </tr>\n",
       "    <tr>\n",
       "      <th>2018</th>\n",
       "      <th>10</th>\n",
       "      <td>67</td>\n",
       "    </tr>\n",
       "  </tbody>\n",
       "</table>\n",
       "</div>"
      ]
     },
     "execution_count": 28,
     "metadata": {},
     "output_type": "execute_result"
    }
   ],
   "execution_count": 28
  },
  {
   "metadata": {
    "ExecuteTime": {
     "end_time": "2025-02-22T07:50:52.129743Z",
     "start_time": "2025-02-22T07:50:52.119857Z"
    }
   },
   "cell_type": "code",
   "source": "df",
   "id": "dcd6bc76e2e9c422",
   "outputs": [
    {
     "data": {
      "text/plain": [
       "            sale\n",
       "year mouth      \n",
       "2012 1        44\n",
       "2014 4        46\n",
       "2016 7        23\n",
       "2018 10       67"
      ],
      "text/html": [
       "<div>\n",
       "<style scoped>\n",
       "    .dataframe tbody tr th:only-of-type {\n",
       "        vertical-align: middle;\n",
       "    }\n",
       "\n",
       "    .dataframe tbody tr th {\n",
       "        vertical-align: top;\n",
       "    }\n",
       "\n",
       "    .dataframe thead th {\n",
       "        text-align: right;\n",
       "    }\n",
       "</style>\n",
       "<table border=\"1\" class=\"dataframe\">\n",
       "  <thead>\n",
       "    <tr style=\"text-align: right;\">\n",
       "      <th></th>\n",
       "      <th></th>\n",
       "      <th>sale</th>\n",
       "    </tr>\n",
       "    <tr>\n",
       "      <th>year</th>\n",
       "      <th>mouth</th>\n",
       "      <th></th>\n",
       "    </tr>\n",
       "  </thead>\n",
       "  <tbody>\n",
       "    <tr>\n",
       "      <th>2012</th>\n",
       "      <th>1</th>\n",
       "      <td>44</td>\n",
       "    </tr>\n",
       "    <tr>\n",
       "      <th>2014</th>\n",
       "      <th>4</th>\n",
       "      <td>46</td>\n",
       "    </tr>\n",
       "    <tr>\n",
       "      <th>2016</th>\n",
       "      <th>7</th>\n",
       "      <td>23</td>\n",
       "    </tr>\n",
       "    <tr>\n",
       "      <th>2018</th>\n",
       "      <th>10</th>\n",
       "      <td>67</td>\n",
       "    </tr>\n",
       "  </tbody>\n",
       "</table>\n",
       "</div>"
      ]
     },
     "execution_count": 29,
     "metadata": {},
     "output_type": "execute_result"
    }
   ],
   "execution_count": 29
  },
  {
   "metadata": {
    "ExecuteTime": {
     "end_time": "2025-02-22T07:50:52.584419Z",
     "start_time": "2025-02-22T07:50:52.575790Z"
    }
   },
   "cell_type": "code",
   "source": "df.index",
   "id": "ee3d4e861662a5a4",
   "outputs": [
    {
     "data": {
      "text/plain": [
       "MultiIndex([(2012,  1),\n",
       "            (2014,  4),\n",
       "            (2016,  7),\n",
       "            (2018, 10)],\n",
       "           names=['year', 'mouth'])"
      ]
     },
     "execution_count": 30,
     "metadata": {},
     "output_type": "execute_result"
    }
   ],
   "execution_count": 30
  },
  {
   "metadata": {
    "ExecuteTime": {
     "end_time": "2025-02-22T07:50:52.799945Z",
     "start_time": "2025-02-22T07:50:52.796803Z"
    }
   },
   "cell_type": "code",
   "source": "",
   "id": "81e809d12305b7e0",
   "outputs": [],
   "execution_count": null
  }
 ],
 "metadata": {
  "kernelspec": {
   "display_name": "Python 3",
   "language": "python",
   "name": "python3"
  },
  "language_info": {
   "codemirror_mode": {
    "name": "ipython",
    "version": 2
   },
   "file_extension": ".py",
   "mimetype": "text/x-python",
   "name": "python",
   "nbconvert_exporter": "python",
   "pygments_lexer": "ipython2",
   "version": "2.7.6"
  }
 },
 "nbformat": 4,
 "nbformat_minor": 5
}
